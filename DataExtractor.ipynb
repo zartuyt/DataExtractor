{
  "nbformat": 4,
  "nbformat_minor": 0,
  "metadata": {
    "colab": {
      "provenance": [],
      "authorship_tag": "ABX9TyM9aprP1LrApyERqBs1QTEO",
      "include_colab_link": true
    },
    "kernelspec": {
      "name": "python3",
      "display_name": "Python 3"
    },
    "language_info": {
      "name": "python"
    }
  },
  "cells": [
    {
      "cell_type": "markdown",
      "metadata": {
        "id": "view-in-github",
        "colab_type": "text"
      },
      "source": [
        "<a href=\"https://colab.research.google.com/github/zartuyt/DataExtractor/blob/main/DataExtractor.ipynb\" target=\"_parent\"><img src=\"https://colab.research.google.com/assets/colab-badge.svg\" alt=\"Open In Colab\"/></a>"
      ]
    },
    {
      "cell_type": "code",
      "execution_count": 7,
      "metadata": {
        "colab": {
          "base_uri": "https://localhost:8080/",
          "height": 347
        },
        "id": "Ol95aAH0YgUg",
        "outputId": "f32230ad-76ce-466a-d0d5-3cae32c8aab7"
      },
      "outputs": [
        {
          "output_type": "error",
          "ename": "FileNotFoundError",
          "evalue": "[Errno 2] No such file or directory: '/Users/zara/PycharmProjects/dataScienceInternshipTest/data/invoices_new.pkl'",
          "traceback": [
            "\u001b[0;31m---------------------------------------------------------------------------\u001b[0m",
            "\u001b[0;31mFileNotFoundError\u001b[0m                         Traceback (most recent call last)",
            "\u001b[0;32m<ipython-input-7-a016417050f3>\u001b[0m in \u001b[0;36m<cell line: 93>\u001b[0;34m()\u001b[0m\n\u001b[1;32m     91\u001b[0m \u001b[0;34m\u001b[0m\u001b[0m\n\u001b[1;32m     92\u001b[0m \u001b[0mextractor\u001b[0m \u001b[0;34m=\u001b[0m \u001b[0mDataExtractor\u001b[0m\u001b[0;34m(\u001b[0m\u001b[0minvoices_new_path\u001b[0m\u001b[0;34m,\u001b[0m \u001b[0mexpired_invoices_path\u001b[0m\u001b[0;34m)\u001b[0m\u001b[0;34m\u001b[0m\u001b[0;34m\u001b[0m\u001b[0m\n\u001b[0;32m---> 93\u001b[0;31m \u001b[0mresult\u001b[0m \u001b[0;34m=\u001b[0m \u001b[0mextractor\u001b[0m\u001b[0;34m.\u001b[0m\u001b[0mrun\u001b[0m\u001b[0;34m(\u001b[0m\u001b[0;34m)\u001b[0m\u001b[0;34m\u001b[0m\u001b[0;34m\u001b[0m\u001b[0m\n\u001b[0m\u001b[1;32m     94\u001b[0m \u001b[0mprint\u001b[0m\u001b[0;34m(\u001b[0m\u001b[0mresult\u001b[0m\u001b[0;34m)\u001b[0m\u001b[0;34m\u001b[0m\u001b[0;34m\u001b[0m\u001b[0m\n",
            "\u001b[0;32m<ipython-input-7-a016417050f3>\u001b[0m in \u001b[0;36mrun\u001b[0;34m(self)\u001b[0m\n\u001b[1;32m     80\u001b[0m \u001b[0;34m\u001b[0m\u001b[0m\n\u001b[1;32m     81\u001b[0m     \u001b[0;32mdef\u001b[0m \u001b[0mrun\u001b[0m\u001b[0;34m(\u001b[0m\u001b[0mself\u001b[0m\u001b[0;34m)\u001b[0m\u001b[0;34m:\u001b[0m\u001b[0;34m\u001b[0m\u001b[0;34m\u001b[0m\u001b[0m\n\u001b[0;32m---> 82\u001b[0;31m         \u001b[0mself\u001b[0m\u001b[0;34m.\u001b[0m\u001b[0mload_new_invoices\u001b[0m\u001b[0;34m(\u001b[0m\u001b[0;34m)\u001b[0m\u001b[0;34m\u001b[0m\u001b[0;34m\u001b[0m\u001b[0m\n\u001b[0m\u001b[1;32m     83\u001b[0m         \u001b[0mself\u001b[0m\u001b[0;34m.\u001b[0m\u001b[0mload_expired_invoices\u001b[0m\u001b[0;34m(\u001b[0m\u001b[0;34m)\u001b[0m\u001b[0;34m\u001b[0m\u001b[0;34m\u001b[0m\u001b[0m\n\u001b[1;32m     84\u001b[0m         \u001b[0mtransformed_data\u001b[0m \u001b[0;34m=\u001b[0m \u001b[0mself\u001b[0m\u001b[0;34m.\u001b[0m\u001b[0mtransform_data\u001b[0m\u001b[0;34m(\u001b[0m\u001b[0;34m)\u001b[0m\u001b[0;34m\u001b[0m\u001b[0;34m\u001b[0m\u001b[0m\n",
            "\u001b[0;32m<ipython-input-7-a016417050f3>\u001b[0m in \u001b[0;36mload_new_invoices\u001b[0;34m(self)\u001b[0m\n\u001b[1;32m      9\u001b[0m \u001b[0;34m\u001b[0m\u001b[0m\n\u001b[1;32m     10\u001b[0m     \u001b[0;32mdef\u001b[0m \u001b[0mload_new_invoices\u001b[0m\u001b[0;34m(\u001b[0m\u001b[0mself\u001b[0m\u001b[0;34m)\u001b[0m\u001b[0;34m:\u001b[0m\u001b[0;34m\u001b[0m\u001b[0;34m\u001b[0m\u001b[0m\n\u001b[0;32m---> 11\u001b[0;31m         \u001b[0;32mwith\u001b[0m \u001b[0mopen\u001b[0m\u001b[0;34m(\u001b[0m\u001b[0mself\u001b[0m\u001b[0;34m.\u001b[0m\u001b[0minvoices_new_path\u001b[0m\u001b[0;34m,\u001b[0m \u001b[0;34m'rb'\u001b[0m\u001b[0;34m)\u001b[0m \u001b[0;32mas\u001b[0m \u001b[0mfile\u001b[0m\u001b[0;34m:\u001b[0m\u001b[0;34m\u001b[0m\u001b[0;34m\u001b[0m\u001b[0m\n\u001b[0m\u001b[1;32m     12\u001b[0m             \u001b[0mself\u001b[0m\u001b[0;34m.\u001b[0m\u001b[0mdata\u001b[0m \u001b[0;34m=\u001b[0m \u001b[0mpickle\u001b[0m\u001b[0;34m.\u001b[0m\u001b[0mload\u001b[0m\u001b[0;34m(\u001b[0m\u001b[0mfile\u001b[0m\u001b[0;34m)\u001b[0m\u001b[0;34m\u001b[0m\u001b[0;34m\u001b[0m\u001b[0m\n\u001b[1;32m     13\u001b[0m \u001b[0;34m\u001b[0m\u001b[0m\n",
            "\u001b[0;31mFileNotFoundError\u001b[0m: [Errno 2] No such file or directory: '/Users/zara/PycharmProjects/dataScienceInternshipTest/data/invoices_new.pkl'"
          ]
        }
      ],
      "source": [
        "import pandas as pd\n",
        "import pickle\n",
        "\n",
        "class DataExtractor:\n",
        "    def __init__(self, invoices_new_path, expired_invoices_path):\n",
        "        self.invoices_new_path = invoices_new_path\n",
        "        self.expired_invoices_path = expired_invoices_path\n",
        "        self.type = {0: 'Material', 1: 'Equipment', 2: 'Service', 3: 'Other'}\n",
        "\n",
        "    def load_new_invoices(self):\n",
        "        with open(self.invoices_new_path, 'rb') as file:\n",
        "            self.data = pickle.load(file)\n",
        "\n",
        "    def load_expired_invoices(self):\n",
        "        with open(self.expired_invoices_path, 'r') as file:\n",
        "            self.expired_invoices = set(map(int, map(str.strip, file.read().split(','))))\n",
        "\n",
        "    def convert_to_int(self, value):\n",
        "        try:\n",
        "            return int(value)\n",
        "        except ValueError:\n",
        "            return None\n",
        "\n",
        "    def transform_data(self):\n",
        "        flattened_data = []\n",
        "\n",
        "        for invoice in self.data:\n",
        "            invoice_id_str = str(invoice['id'])\n",
        "            invoice_id = int(''.join(filter(str.isdigit, invoice_id_str)))\n",
        "            created_on = pd.to_datetime(invoice['created_on'])\n",
        "\n",
        "            invoice_total = sum(\n",
        "                self._parse_price(item['item']['unit_price']) * self._parse_quantity(item['quantity'])\n",
        "                for item in invoice['items']\n",
        "            )\n",
        "\n",
        "            for item in invoice['items']:\n",
        "                invoiceitem_id = item['item']['id']\n",
        "                invoiceitem_name = item['item']['name']\n",
        "                type_ = self._parse_type(item['item']['type'])\n",
        "                unit_price = self._parse_price(item['item']['unit_price'])\n",
        "                quantity = self._parse_quantity(item['quantity'])\n",
        "                total_price = unit_price * quantity\n",
        "                percentage_in_invoice = total_price / invoice_total\n",
        "                is_expired = invoice_id in self.expired_invoices\n",
        "\n",
        "                flattened_data.append({\n",
        "                    'invoice_id': invoice_id,\n",
        "                    'created_on': created_on,\n",
        "                    'invoiceitem_id': invoiceitem_id,\n",
        "                    'invoiceitem_name': invoiceitem_name,\n",
        "                    'type': type_,\n",
        "                    'unit_price': unit_price,\n",
        "                    'total_price': total_price,\n",
        "                    'percentage_in_invoice': percentage_in_invoice,\n",
        "                    'is_expired': is_expired\n",
        "                })\n",
        "\n",
        "        flat_df = pd.DataFrame(flattened_data)\n",
        "        flat_df = flat_df.sort_values(by=['invoice_id', 'invoiceitem_id'])\n",
        "        return flat_df\n",
        "\n",
        "    def _parse_price(self, price):\n",
        "        try:\n",
        "            return int(price)\n",
        "        except ValueError:\n",
        "            return 0\n",
        "\n",
        "    def _parse_quantity(self, quantity):\n",
        "        try:\n",
        "            return int(quantity)\n",
        "        except ValueError:\n",
        "            return 0\n",
        "\n",
        "    def _parse_type(self, type_):\n",
        "        try:\n",
        "            return self.type[int(type_)]\n",
        "        except (ValueError, KeyError):\n",
        "            return 'Other'\n",
        "\n",
        "    def run(self):\n",
        "        self.load_new_invoices()\n",
        "        self.load_expired_invoices()\n",
        "        transformed_data = self.transform_data()\n",
        "        transformed_data.to_csv('transformed_invoices.csv', index=False)\n",
        "        return \"CSV file saved successfully.\"\n",
        "\n",
        "# Usage\n",
        "invoices_new_path = 'expired_invoices.txt'\n",
        "expired_invoices_path = 'expired_invoices.txt'\n",
        "\n",
        "extractor = DataExtractor(invoices_new_path, expired_invoices_path)\n",
        "result = extractor.run()\n",
        "print(result)\n"
      ]
    }
  ]
}