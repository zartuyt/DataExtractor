{
  "nbformat": 4,
  "nbformat_minor": 0,
  "metadata": {
    "colab": {
      "provenance": [],
      "authorship_tag": "ABX9TyNyS5CX+8cdMxHMM3MiHIUn",
      "include_colab_link": true
    },
    "kernelspec": {
      "name": "python3",
      "display_name": "Python 3"
    },
    "language_info": {
      "name": "python"
    }
  },
  "cells": [
    {
      "cell_type": "markdown",
      "metadata": {
        "id": "view-in-github",
        "colab_type": "text"
      },
      "source": [
        "<a href=\"https://colab.research.google.com/github/zartuyt/DataExtractor/blob/main/DataExtractor.ipynb\" target=\"_parent\"><img src=\"https://colab.research.google.com/assets/colab-badge.svg\" alt=\"Open In Colab\"/></a>"
      ]
    },
    {
      "cell_type": "code",
      "source": [
        "!git clone https://github.com/zartuyt/DataExtractor"
      ],
      "metadata": {
        "colab": {
          "base_uri": "https://localhost:8080/"
        },
        "id": "aF26zZoU0FKz",
        "outputId": "4b6c1b20-bd1a-44e3-d9fa-980e56f3197a"
      },
      "execution_count": 5,
      "outputs": [
        {
          "output_type": "stream",
          "name": "stdout",
          "text": [
            "Cloning into 'DataExtractor'...\n",
            "remote: Enumerating objects: 7, done.\u001b[K\n",
            "remote: Counting objects: 100% (7/7), done.\u001b[K\n",
            "remote: Compressing objects: 100% (7/7), done.\u001b[K\n",
            "remote: Total 7 (delta 1), reused 0 (delta 0), pack-reused 0\u001b[K\n",
            "Receiving objects: 100% (7/7), 9.56 KiB | 9.56 MiB/s, done.\n",
            "Resolving deltas: 100% (1/1), done.\n"
          ]
        }
      ]
    },
    {
      "cell_type": "code",
      "source": [
        "import os\n",
        "os.chdir('DataExtractor')"
      ],
      "metadata": {
        "id": "DjMdzi-n0VTX"
      },
      "execution_count": 6,
      "outputs": []
    },
    {
      "cell_type": "code",
      "source": [
        "invoices_new_path = 'invoices_new.pkl'\n",
        "expired_invoices_path = 'expired_invoices.txt'"
      ],
      "metadata": {
        "id": "4TTWoH6n0tex"
      },
      "execution_count": 7,
      "outputs": []
    },
    {
      "cell_type": "code",
      "execution_count": 14,
      "metadata": {
        "colab": {
          "base_uri": "https://localhost:8080/"
        },
        "id": "Ol95aAH0YgUg",
        "outputId": "81ac6d7d-07b4-4274-e6f7-3e15eb7018d5"
      },
      "outputs": [
        {
          "output_type": "stream",
          "name": "stdout",
          "text": [
            "CSV file saved successfully.\n"
          ]
        }
      ],
      "source": [
        "import pandas as pd\n",
        "import pickle\n",
        "\n",
        "class DataExtractor:\n",
        "    def __init__(self, invoices_new_path, expired_invoices_path):\n",
        "        self.invoices_new_path = invoices_new_path\n",
        "        self.expired_invoices_path = expired_invoices_path\n",
        "        self.type = {0: 'Material', 1: 'Equipment', 2: 'Service', 3: 'Other'}\n",
        "\n",
        "    def load_new_invoices(self):\n",
        "        with open(self.invoices_new_path, 'rb') as file:\n",
        "            self.data = pickle.load(file)\n",
        "\n",
        "    def load_expired_invoices(self):\n",
        "        with open(self.expired_invoices_path, 'r') as file:\n",
        "            self.expired_invoices = set(map(int, map(str.strip, file.read().split(','))))\n",
        "\n",
        "    def convert_to_int(self, value):\n",
        "        try:\n",
        "            return int(value)\n",
        "        except ValueError:\n",
        "            return None\n",
        "\n",
        "    def transform_data(self):\n",
        "      flattened_data = []\n",
        "\n",
        "      for invoice in self.data:\n",
        "          invoice_id_str = str(invoice['id'])\n",
        "          invoice_id = int(''.join(filter(str.isdigit, invoice_id_str)))\n",
        "\n",
        "          # Handle invalid dates\n",
        "          try:\n",
        "              created_on = pd.to_datetime(invoice['created_on'])\n",
        "          except (ValueError, pd.errors.OutOfBoundsDatetime):\n",
        "              continue\n",
        "\n",
        "          # Check if 'items' key exists in the invoice\n",
        "          if 'items' not in invoice:\n",
        "              continue\n",
        "\n",
        "          invoice_total = sum(\n",
        "              self._parse_price(item['item']['unit_price']) * self._parse_quantity(item['quantity'])\n",
        "              for item in invoice['items']\n",
        "          )\n",
        "\n",
        "          for item in invoice['items']:\n",
        "              invoiceitem_id = item['item']['id']\n",
        "              invoiceitem_name = item['item']['name']\n",
        "              type_ = self._parse_type(item['item']['type'])\n",
        "              unit_price = self._parse_price(item['item']['unit_price'])\n",
        "              quantity = self._parse_quantity(item['quantity'])\n",
        "              total_price = unit_price * quantity\n",
        "              percentage_in_invoice = total_price / invoice_total\n",
        "              is_expired = invoice_id in self.expired_invoices\n",
        "\n",
        "              flattened_data.append({\n",
        "                  'invoice_id': invoice_id,\n",
        "                  'created_on': created_on,\n",
        "                  'invoiceitem_id': invoiceitem_id,\n",
        "                  'invoiceitem_name': invoiceitem_name,\n",
        "                  'type': type_,\n",
        "                  'unit_price': unit_price,\n",
        "                  'total_price': total_price,\n",
        "                  'percentage_in_invoice': percentage_in_invoice,\n",
        "                  'is_expired': is_expired\n",
        "              })\n",
        "\n",
        "      flat_df = pd.DataFrame(flattened_data)\n",
        "      flat_df = flat_df.sort_values(by=['invoice_id', 'invoiceitem_id'])\n",
        "      return flat_df\n",
        "\n",
        "\n",
        "\n",
        "    def _parse_price(self, price):\n",
        "        try:\n",
        "            return int(price)\n",
        "        except ValueError:\n",
        "            return 0\n",
        "\n",
        "    def _parse_quantity(self, quantity):\n",
        "        try:\n",
        "            return int(quantity)\n",
        "        except ValueError:\n",
        "            return 0\n",
        "\n",
        "    def _parse_type(self, type_):\n",
        "        try:\n",
        "            return self.type[int(type_)]\n",
        "        except (ValueError, KeyError):\n",
        "            return 'Other'\n",
        "\n",
        "    def run(self):\n",
        "        self.load_new_invoices()\n",
        "        self.load_expired_invoices()\n",
        "        transformed_data = self.transform_data()\n",
        "        transformed_data.to_csv('transformed_invoices.csv', index=False)\n",
        "        return \"CSV file saved successfully.\"\n",
        "\n",
        "extractor = DataExtractor(invoices_new_path, expired_invoices_path)\n",
        "result = extractor.run()\n",
        "print(result)\n"
      ]
    }
  ]
}